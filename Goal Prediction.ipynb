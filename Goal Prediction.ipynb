{
 "cells": [
  {
   "cell_type": "markdown",
   "metadata": {
    "collapsed": true
   },
   "source": [
    "# Football win/lose prediction"
   ]
  },
  {
   "cell_type": "markdown",
   "metadata": {},
   "source": [
    "In this program, we are going to build an application to predict the result of soccer team base on their rated values.\n",
    "\n",
    "For this application, we will group the soccer team rate by 5 categories:\n",
    "- Coach\n",
    "- Sticker\n",
    "- Min-fielder\n",
    "- Defender\n",
    "- Goalkeeper\n",
    "\n",
    "Where their range is from 0-100."
   ]
  },
  {
   "cell_type": "markdown",
   "metadata": {},
   "source": [
    "### Coding"
   ]
  },
  {
   "cell_type": "markdown",
   "metadata": {},
   "source": [
    "### How to use the application\n",
    "\n",
    "The application will allow user to input the rated range of team members and it will return the result: WIN/LOSE.\n",
    "\n",
    "`PredictTeam([coach, stricker, stricker, mid_fielder, mid_fielder, mid_fielder, mid_fielder, defendere, defendere, defendere, defendere, goalkeeper])`\n",
    "\n",
    "Ex: `PredictTeam([90,80,58,67,89,88,78,88,99,87,79,82]) = WIN`\n"
   ]
  },
  {
   "cell_type": "markdown",
   "metadata": {},
   "source": [
    "Winning sample:\n",
    "- [80,70,70,70,80,77,77,76,78,76,77,70]\n",
    "- [80,80,80,75,65,70,70,75,77,77,77,88]\n",
    "- [88,80,70,79,65,77,71,80,71,66,76,80]\n",
    "- [88,80,70,80,77,76,75,74,71,66,67,65]\n",
    "- [88,80,77,80,65,77,88,76,71,80,88,89]\n",
    "- [88,80,78,88,87,69,77,80,71,66,67,70]\n",
    "- [88,80,70,79,65,77,71,80,77,79,78,77]\n",
    "\n",
    "\n",
    "Losing sample:\n",
    "- [85,90,85,80,70,75,77,78,81,77,75,79]\n",
    "- [80,80,80,75,65,70,70,75,67,67,69,66]\n",
    "- [88,80,70,79,65,77,71,80,71,66,67,65]\n",
    "- [75,50,60,55,54,53,45,53,71,66,67,65]\n",
    "- [75,50,60,55,54,53,45,53,71,66,67,65]\n",
    "- [70,71,60,70,65,60,60,65,71,66,66,65]\n",
    "- [60,60,56,55,56,57,71,75,71,66,67,65]\n",
    "- [65,65,50,54,54,55,50,77,65,66,61,60]"
   ]
  },
  {
   "cell_type": "code",
   "execution_count": 137,
   "metadata": {},
   "outputs": [],
   "source": [
    "import numpy as np \n",
    "\n",
    "# win threshold\n",
    "# coach\n",
    "C_W_MIN =  80\n",
    "C_W_MAX =  90\n",
    "# sticker\n",
    "S_W_MIN = 75\n",
    "S_W_MAX = 85\n",
    "# mid fielder\n",
    "M_W_MIN = 70\n",
    "M_W_MAX = 85\n",
    "# defender\n",
    "D_W_MIN = 65\n",
    "D_W_MAX = 80\n",
    "# goalkeeper\n",
    "G_W_MIN = 75\n",
    "G_W_MAX = 85\n",
    "\n",
    "# lose threshold\n",
    "# coach\n",
    "C_L_MIN =  50\n",
    "C_L_MAX = 80\n",
    "# sticker\n",
    "S_L_MIN = 60\n",
    "S_L_MAX = 75\n",
    "# mid fielder\n",
    "M_L_MIN = 50\n",
    "M_L_MAX = 70\n",
    "# defender\n",
    "D_L_MIN = 45\n",
    "D_L_MAX = 65\n",
    "# goalkeeper\n",
    "G_L_MIN = 60\n",
    "G_L_MAX = 75\n",
    "\n",
    "def findB(x,y, m):\n",
    "    b = y - (m * x)\n",
    "    return b\n",
    "def findM(x_max, x_min, y_max, y_min):\n",
    "    x1 = x_max\n",
    "    y1 = y_max\n",
    "    x2 = x_min\n",
    "    y2 = y_min\n",
    "    m = (y2-y1)/(x2-x1)\n",
    "    return m\n",
    "\n",
    "\n",
    "def findScore(x, x_max,x_min, y_max, y_min):\n",
    "    #  it will return value between 0-1\n",
    "    m = findM(x_max,x_min, y_max, y_min)\n",
    "    b = findB(x_max, y_max, m)\n",
    "    y = (m * x) + b\n",
    "    \n",
    "    if y < 0:\n",
    "        return 0\n",
    "    if y > 1:\n",
    "        return 1\n",
    "    \n",
    "    return y\n",
    "\n",
    "def CalculateWinScore(arr_range):\n",
    "    score = [0,0,0,0,0,0,0,0,0,0,0,0]\n",
    "    score[0] = findScore(arr_range[0], C_W_MAX, C_W_MIN, 1, 0)\n",
    "    \n",
    "    score[1] = findScore(arr_range[1], S_W_MAX, S_W_MIN, 1, 0)\n",
    "    score[2] = findScore(arr_range[2], S_W_MAX, S_W_MIN, 1, 0)\n",
    "    \n",
    "    score[3] = findScore(arr_range[3], M_W_MAX, M_W_MIN, 1, 0)\n",
    "    score[4] = findScore(arr_range[4], M_W_MAX, M_W_MIN, 1, 0)\n",
    "    score[5] = findScore(arr_range[5], M_W_MAX, M_W_MIN, 1, 0)\n",
    "    score[6] = findScore(arr_range[6], M_W_MAX, M_W_MIN, 1, 0)\n",
    "    \n",
    "    score[7] = findScore(arr_range[7], D_W_MAX, D_W_MIN, 1, 0)\n",
    "    score[8] = findScore(arr_range[8], D_W_MAX, D_W_MIN, 1, 0)\n",
    "    score[9] = findScore(arr_range[9], D_W_MAX, D_W_MIN, 1, 0)\n",
    "    score[10] = findScore(arr_range[10], D_W_MAX, D_W_MIN, 1, 0)\n",
    "    \n",
    "    score[11] = findScore(arr_range[11], G_W_MAX, G_W_MIN, 1, 0)\n",
    "    \n",
    "    return score\n",
    "\n",
    "def CalculateLoseScore(arr_range):\n",
    "    score = [0,0,0,0,0,0,0,0,0,0,0,0]\n",
    "    score[0] = findScore(arr_range[0], C_L_MAX, C_L_MIN, 0, 1)\n",
    "    \n",
    "    score[1] = findScore(arr_range[1], S_L_MAX, S_L_MIN, 0, 1)\n",
    "    score[2] = findScore(arr_range[2], S_L_MAX, S_L_MIN, 0, 1)\n",
    "    \n",
    "    score[3] = findScore(arr_range[3], M_L_MAX, M_L_MIN, 0, 1)\n",
    "    score[4] = findScore(arr_range[4], M_L_MAX, M_L_MIN, 0, 1)\n",
    "    score[5] = findScore(arr_range[5], M_L_MAX, M_L_MIN, 0, 1)\n",
    "    score[6] = findScore(arr_range[6], M_L_MAX, M_L_MIN, 0, 1)\n",
    "    \n",
    "    score[7] = findScore(arr_range[7], D_L_MAX, D_L_MIN, 0, 1)\n",
    "    score[8] = findScore(arr_range[8], D_L_MAX, D_L_MIN, 0, 1)\n",
    "    score[9] = findScore(arr_range[9], D_L_MAX, D_L_MIN, 0, 1)\n",
    "    score[10] = findScore(arr_range[10], D_L_MAX, D_L_MIN, 0, 1)\n",
    "    \n",
    "    score[11] = findScore(arr_range[11], G_L_MAX, G_L_MIN, 0, 1)\n",
    "    \n",
    "    return score\n"
   ]
  },
  {
   "cell_type": "markdown",
   "metadata": {},
   "source": [
    "### Training\n",
    "Train model with WIN/LOSE sample data"
   ]
  },
  {
   "cell_type": "code",
   "execution_count": 138,
   "metadata": {},
   "outputs": [
    {
     "name": "stdout",
     "output_type": "stream",
     "text": [
      "[0.57142857 0.42857143 0.14285714 0.55238095 0.3047619  0.32380952\n",
      " 0.34285714 0.81904762 0.58095238 0.52380952 0.63809524 0.38571429]\n",
      "[0.22916667 0.49166667 0.66666667 0.38125    0.48125    0.45\n",
      " 0.4375     0.15       0.         0.         0.025      0.61666667]\n"
     ]
    }
   ],
   "source": [
    "def WinScoreTemplate():\n",
    "    samples = [[80,70,70,70,80,77,77,76,78,76,77,70],\n",
    "            [80,80,80,75,65,70,70,75,77,77,77,88],\n",
    "            [88,80,70,79,65,77,71,80,71,66,76,80],\n",
    "            [88,80,70,80,77,76,75,74,71,66,67,65],\n",
    "            [88,80,77,80,65,77,88,76,71,80,88,89],\n",
    "            [88,80,78,88,87,69,77,80,71,66,67,70],\n",
    "            [88,80,70,79,65,77,71,80,77,79,78,77]]\n",
    "    total_score = [0.0,0.0,0.0,0.0,0.0,0.0,0.0,0.0,0.0,0.0,0.0,0.0]\n",
    "    for sample in samples:\n",
    "        score = CalculateWinScore(sample)\n",
    "        total_score = np.sum([total_score, score], axis=0)\n",
    "\n",
    "    return np.divide(total_score, len(samples))\n",
    "\n",
    "def LoseScoreTemplate():\n",
    "    samples = [[85,90,85,80,70,75,77,78,81,77,75,79],\n",
    "                [80,80,80,75,65,70,70,75,67,67,69,66],\n",
    "                [88,80,70,79,65,77,71,80,71,66,67,65],\n",
    "                [75,50,60,55,54,53,45,53,71,66,67,65],\n",
    "                [75,50,60,55,54,53,45,53,71,66,67,65],\n",
    "                [70,71,60,70,65,60,60,65,71,66,66,65],\n",
    "                [60,60,56,55,56,57,71,75,71,66,67,65],\n",
    "                [65,65,50,54,54,55,50,77,65,66,61,60]]\n",
    "    total_score = [0.0,0.0,0.0,0.0,0.0,0.0,0.0,0.0,0.0,0.0,0.0,0.0]\n",
    "    for sample in samples:\n",
    "        score = CalculateLoseScore(sample)\n",
    "        total_score = np.sum([total_score, score], axis=0)\n",
    "\n",
    "    return np.divide(total_score, len(samples))\n",
    "\n",
    "\n",
    "WinTemplate = WinScoreTemplate()\n",
    "LoseTemplate = LoseScoreTemplate()\n",
    "print(WinTemplate)\n",
    "print(LoseTemplate)"
   ]
  },
  {
   "cell_type": "code",
   "execution_count": 139,
   "metadata": {},
   "outputs": [],
   "source": [
    "### score comparation\n",
    "# u(A,B) = & (ua(x) <->ub(x))\n",
    "def DegreeOfEquivalence(input, template):\n",
    "    result = 1\n",
    "    for i in range(len(input)):\n",
    "        A = input[i]\n",
    "        B = template[i]\n",
    "        AB = min(max(1 - A, B), max(A, 1 - B))\n",
    "        print(AB)\n",
    "        result = min(result, AB)\n",
    "    return result"
   ]
  },
  {
   "cell_type": "code",
   "execution_count": 141,
   "metadata": {},
   "outputs": [
    {
     "name": "stdout",
     "output_type": "stream",
     "text": [
      "0.571428571428572\n",
      "0.42857142857142855\n",
      "0.142857142857143\n",
      "0.5523809523809521\n",
      "0.30476190476190457\n",
      "0.32380952380952327\n",
      "0.3428571428571425\n",
      "0.8190476190476191\n",
      "0.5809523809523812\n",
      "0.5238095238095241\n",
      "0.6380952380952383\n",
      "0.38571428571428573\n",
      "[1.0, 1, 1, 1, 1, 1, 1, 1, 1, 1, 1, 1]\n",
      "[0.57142857 0.42857143 0.14285714 0.55238095 0.3047619  0.32380952\n",
      " 0.34285714 0.81904762 0.58095238 0.52380952 0.63809524 0.38571429]\n",
      "0.142857142857143\n"
     ]
    }
   ],
   "source": [
    "### prediction\n",
    "input_data = CalculateWinScore([90,90,90,95,95,90,90,95,97,97,97,98])\n",
    "result = DegreeOfEquivalence(WinTemplate, input_data)\n",
    "print(input_data)\n",
    "print(WinTemplate)\n",
    "print(result)\n",
    "# DegreeOfEquivalence(input_data, LoseTemplate)"
   ]
  },
  {
   "cell_type": "code",
   "execution_count": null,
   "metadata": {},
   "outputs": [],
   "source": []
  }
 ],
 "metadata": {
  "kernelspec": {
   "display_name": "Python 3",
   "language": "python",
   "name": "python3"
  },
  "language_info": {
   "codemirror_mode": {
    "name": "ipython",
    "version": 3
   },
   "file_extension": ".py",
   "mimetype": "text/x-python",
   "name": "python",
   "nbconvert_exporter": "python",
   "pygments_lexer": "ipython3",
   "version": "3.6.9"
  }
 },
 "nbformat": 4,
 "nbformat_minor": 2
}
