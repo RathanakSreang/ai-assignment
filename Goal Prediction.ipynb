{
 "cells": [
  {
   "cell_type": "code",
   "execution_count": 1,
   "metadata": {},
   "outputs": [
    {
     "name": "stdout",
     "output_type": "stream",
     "text": [
      "0.25\n"
     ]
    },
    {
     "data": {
      "text/plain": [
       "0.75"
      ]
     },
     "execution_count": 1,
     "metadata": {},
     "output_type": "execute_result"
    }
   ],
   "source": [
    "# winning team\n",
    "\n",
    "# couch, 0 if rate <= 7\n",
    "# couch, F(x), if 7 < rate > 9\n",
    "# couch, 1 if rate >= 9\n",
    "\n",
    "# stricker, 0 if rate <= 8\n",
    "# stricker, F(x) if 8 < rate < 9.5\n",
    "# stricker, 1 if rate >= 9.5\n",
    "\n",
    "# defender, 0 if rate <= 7.5\n",
    "# defender, F(x) if 7.5 < rate < 8.5\n",
    "# defender, 1 if rate >= 8.5\n",
    "\n",
    "# player, 0 if rate <= 5\n",
    "# player, F(x) if 5 < rate < 6.5\n",
    "# player, 1 if rate >= 6.5\n",
    "\n",
    "# couch, stricker, defender, player2, player3, player4, player5, player6, player7, player8, player9\n",
    "# (8,7,9,5,7,8,9,6,4,9,8) = xx% win\n",
    "\n",
    "\n",
    "# y = mx + b\n",
    "\n",
    "# m = (y2-y1)/(x2-x1)\n",
    "# b = y - mx\n",
    "#x is a new coord.x; we need to find y;\n",
    "\n",
    "def findB(x,y, m):\n",
    "    b = y - (m * x)\n",
    "    return b\n",
    "\n",
    "def findM(p1,p2):\n",
    "    x1 = p1.x\n",
    "    y1 = p1.y\n",
    "    x2 = p2.x\n",
    "    y2 = p2.y\n",
    "    m = (y2-y1)/(x2-x1)\n",
    "    return m\n",
    "\n",
    "\n",
    "def findYAxis(p1, p2, x):    \n",
    "    m = findM(p1,p2)\n",
    "    print(m)\n",
    "    b = findB(p1.x, p1.y, m)\n",
    "    #b2 = findB(p2.x, p2.y);\n",
    "    \n",
    "    y = (m * x) + b\n",
    "    return y\n",
    "\n",
    "class Point:\n",
    "    def __init__(self, x, y):\n",
    "        self.x = x\n",
    "        self.y = y\n",
    "\n",
    "\n",
    "p1 = Point(9, 1)\n",
    "p2 = Point(5, 0)\n",
    "\n",
    "findYAxis(p1, p2, 8)"
   ]
  },
  {
   "cell_type": "code",
   "execution_count": null,
   "metadata": {
    "collapsed": true
   },
   "outputs": [],
   "source": [
    "function findB"
   ]
  }
 ],
 "metadata": {
  "kernelspec": {
   "display_name": "Python 3",
   "language": "python",
   "name": "python3"
  },
  "language_info": {
   "codemirror_mode": {
    "name": "ipython",
    "version": 3
   },
   "file_extension": ".py",
   "mimetype": "text/x-python",
   "name": "python",
   "nbconvert_exporter": "python",
   "pygments_lexer": "ipython3",
   "version": "3.6.5"
  }
 },
 "nbformat": 4,
 "nbformat_minor": 2
}
